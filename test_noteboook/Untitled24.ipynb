{
 "cells": [
  {
   "cell_type": "code",
   "execution_count": 6,
   "metadata": {},
   "outputs": [
    {
     "name": "stdout",
     "output_type": "stream",
     "text": [
      "x :  [[1. 2. 3.]\n",
      " [4. 5. 6.]]\n",
      "3.5\n",
      "shape :  ()\n",
      "[2.5 3.5 4.5]\n",
      "reduce_sum.shape : (3,)\n",
      "[2. 5.]\n",
      "reduce_sum.shape : (2,)\n"
     ]
    }
   ],
   "source": [
    "import tensorflow as tf\n",
    "import numpy as np\n",
    "\n",
    "x = [[1.,2.,3.],[4.,5.,6.]]\n",
    "\n",
    "sess = tf.Session()\n",
    "\n",
    "x = np.array(x)\n",
    "print(\"x : \", x)\n",
    "print(sess.run(tf.reduce_mean(x)))\n",
    "print(\"shape : \", sess.run(tf.reduce_mean(x)).shape)\n",
    "\n",
    "print(sess.run(tf.reduce_mean(x, axis =0)))\n",
    "print(\"reduce_sum.shape :\", sess.run(tf.reduce_mean(x, axis=0)).shape )\n",
    "\n",
    "print(sess.run(tf.reduce_mean(x, axis =1)))\n",
    "print(\"reduce_sum.shape :\", sess.run(tf.reduce_mean(x, axis=1)).shape )"
   ]
  },
  {
   "cell_type": "code",
   "execution_count": null,
   "metadata": {},
   "outputs": [],
   "source": []
  }
 ],
 "metadata": {
  "kernelspec": {
   "display_name": "Python 3",
   "language": "python",
   "name": "python3"
  },
  "language_info": {
   "codemirror_mode": {
    "name": "ipython",
    "version": 3
   },
   "file_extension": ".py",
   "mimetype": "text/x-python",
   "name": "python",
   "nbconvert_exporter": "python",
   "pygments_lexer": "ipython3",
   "version": "3.7.6"
  }
 },
 "nbformat": 4,
 "nbformat_minor": 4
}
